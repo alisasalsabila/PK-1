{
 "cells": [
  {
   "cell_type": "markdown",
   "id": "69db8c72-a902-4f75-9956-8104837d157a",
   "metadata": {},
   "source": [
    "# Conditional If dan Looping"
   ]
  },
  {
   "cell_type": "markdown",
   "id": "c0725774-a974-4e2c-b71d-d2ccbaa9ddd0",
   "metadata": {},
   "source": [
    "# Contoh 1"
   ]
  },
  {
   "cell_type": "code",
   "execution_count": 1,
   "id": "41421e5c-8045-43f0-82fe-eb0c25638022",
   "metadata": {},
   "outputs": [
    {
     "name": "stdin",
     "output_type": "stream",
     "text": [
      "Laki-laki atau Wanita?  Wanita\n"
     ]
    },
    {
     "name": "stdout",
     "output_type": "stream",
     "text": [
      "Silahkan masuk toilet wanita\n"
     ]
    }
   ],
   "source": [
    "gender = input(\"Laki-laki atau Wanita? \")\n",
    "if gender == \"Laki-laki\":\n",
    "    print(\"Silahkan masuk toilet laki-laki\")\n",
    "elif gender == \"Wanita\":\n",
    "    print(\"Silahkan masuk toilet wanita\")\n",
    "else:\n",
    "    print(\"Anda salah memilih gender\")"
   ]
  },
  {
   "cell_type": "markdown",
   "id": "6a84d048-4010-468c-a817-783ec46ac3ae",
   "metadata": {},
   "source": [
    "# Contoh 2"
   ]
  },
  {
   "cell_type": "code",
   "execution_count": 2,
   "id": "db68f632-a2c2-4b10-b019-a5f12c980f36",
   "metadata": {},
   "outputs": [
    {
     "name": "stdin",
     "output_type": "stream",
     "text": [
      "Laki-laki atau Wanita?  Laki-laki\n"
     ]
    },
    {
     "name": "stdout",
     "output_type": "stream",
     "text": [
      "Silahkan masuk toilet laki-laki\n"
     ]
    }
   ],
   "source": [
    "gender = input(\"Laki-laki atau Wanita? \")\n",
    "if gender == \"Laki-laki\" or gender == \"laki-laki\" or gender == \"LAKI-LAKI\" or gender == \"Pria\" or gender == \"pria\" or gender == \"PRIA\":\n",
    "    print(\"Silahkan masuk toilet laki-laki\")\n",
    "elif gender == \"Wanita\" or gender == \"wanita\" or gender == \"WANITA\" or gender == \"Perempuan\" or gender == \"perempuan\" or gender == \"PEREMPUAN\":\n",
    "    print(\"Silahkan masuk toilet wanita\")\n",
    "else:\n",
    "    print(\"Anda salah memilih gender\")"
   ]
  },
  {
   "cell_type": "markdown",
   "id": "0c1db0bf-995d-4e15-a93c-44af5a93af10",
   "metadata": {},
   "source": [
    "# Contoh 3"
   ]
  },
  {
   "cell_type": "code",
   "execution_count": 3,
   "id": "b097e510-15f8-42f1-9195-7ebcc712303b",
   "metadata": {},
   "outputs": [
    {
     "name": "stdin",
     "output_type": "stream",
     "text": [
      "Laki-laki atau Wanita? Wanita\n",
      "Berapa usia kamu(dalam tahun)? 31\n"
     ]
    },
    {
     "name": "stdout",
     "output_type": "stream",
     "text": [
      "Anda tidak memenuhi persyaratan administrasi\n"
     ]
    }
   ],
   "source": [
    "gender = input(\"Laki-laki atau Wanita?\")\n",
    "usia = int(input(\"Berapa usia kamu(dalam tahun)?\"))\n",
    "if gender == \"Laki-laki\" and usia > 30:\n",
    "    print(\"Anda memenuhi persyaratan administrasi\")\n",
    "else:\n",
    "    print(\"Anda tidak memenuhi persyaratan administrasi\")"
   ]
  },
  {
   "cell_type": "markdown",
   "id": "e5e86e9a-d90c-403a-8d67-3a18f33db6d8",
   "metadata": {},
   "source": [
    "# 4.2 Looping "
   ]
  },
  {
   "cell_type": "markdown",
   "id": "f431fcd5-9f41-4425-b224-f698c4296129",
   "metadata": {},
   "source": [
    "# Contoh 4"
   ]
  },
  {
   "cell_type": "code",
   "execution_count": 4,
   "id": "d4896041-2fdf-4cda-8540-6d414f00fb84",
   "metadata": {},
   "outputs": [
    {
     "name": "stdin",
     "output_type": "stream",
     "text": [
      "Masukkan transaksi ke-1:  230\n",
      "Masukkan transaksi ke-2:  330\n",
      "Masukkan transaksi ke-3:  450\n",
      "Masukkan transaksi ke-4:  570\n",
      "Masukkan transaksi ke-5:  700\n"
     ]
    },
    {
     "name": "stdout",
     "output_type": "stream",
     "text": [
      "[230, 330, 450, 570, 700]\n"
     ]
    }
   ],
   "source": [
    "Transaksi =[]\n",
    "Transaksi.append(int(input(\"Masukkan transaksi ke-1: \")))\n",
    "Transaksi.append(int(input(\"Masukkan transaksi ke-2: \")))\n",
    "Transaksi.append(int(input(\"Masukkan transaksi ke-3: \")))\n",
    "Transaksi.append(int(input(\"Masukkan transaksi ke-4: \")))\n",
    "Transaksi.append(int(input(\"Masukkan transaksi ke-5: \")))\n",
    "print(Transaksi)"
   ]
  },
  {
   "cell_type": "markdown",
   "id": "4d0cd468-643d-4834-a348-094c2c8f30f6",
   "metadata": {},
   "source": [
    "# Contoh 5"
   ]
  },
  {
   "cell_type": "code",
   "execution_count": 5,
   "id": "a5fe579b-dcad-4c99-9a0b-4d7e36c11bfd",
   "metadata": {},
   "outputs": [
    {
     "name": "stdin",
     "output_type": "stream",
     "text": [
      "Masukkan transaksi ke-1:  230\n",
      "Masukkan transaksi ke-2:  330\n",
      "Masukkan transaksi ke-3:  450\n",
      "Masukkan transaksi ke-4:  570\n",
      "Masukkan transaksi ke-5:  700\n"
     ]
    },
    {
     "name": "stdout",
     "output_type": "stream",
     "text": [
      "[230, 330, 450, 570, 700]\n"
     ]
    }
   ],
   "source": [
    "Transaksi =[]\n",
    "i=1\n",
    "while i < 6:\n",
    "    Transaksi.append(int(input(\"Masukkan transaksi ke-{}: \".format(i))))\n",
    "    i += 1\n",
    "print(Transaksi)"
   ]
  },
  {
   "cell_type": "markdown",
   "id": "f5f9decf-1342-4dd0-ac63-43fd398a6108",
   "metadata": {
    "tags": []
   },
   "source": [
    "# Contoh 6"
   ]
  },
  {
   "cell_type": "code",
   "execution_count": null,
   "id": "36c6e635-b973-4662-b9be-7fb6ead108da",
   "metadata": {},
   "outputs": [],
   "source": [
    "Transaksi =[]\n",
    "for i in range(1, 6):\n",
    "    Transaksi.append(int(input(\"Masukkan transaksi ke-{}: \".format(i))))\n",
    "print(Transaksi)"
   ]
  },
  {
   "cell_type": "code",
   "execution_count": null,
   "id": "f2925031-85a0-4d28-bae6-f08bb02a3068",
   "metadata": {},
   "outputs": [],
   "source": [
    "gender = input(\"Laki-laki atau Wanita? \")\n",
    "if gender == \"Laki-laki\":\n",
    "    print(\"Silahkan masuk toilet laki-laki\")\n",
    "elif gender == \"Wanita\":\n",
    "    print(\"Silahkan masuk toilet wanita\")\n",
    "else:\n",
    "    print(\"Anda salah memilih gender\")"
   ]
  },
  {
   "cell_type": "code",
   "execution_count": null,
   "id": "e8e24e7c-998f-4355-b244-cd93957f5709",
   "metadata": {},
   "outputs": [],
   "source": []
  }
 ],
 "metadata": {
  "kernelspec": {
   "display_name": "Python 3 (ipykernel)",
   "language": "python",
   "name": "python3"
  },
  "language_info": {
   "codemirror_mode": {
    "name": "ipython",
    "version": 3
   },
   "file_extension": ".py",
   "mimetype": "text/x-python",
   "name": "python",
   "nbconvert_exporter": "python",
   "pygments_lexer": "ipython3",
   "version": "3.10.2"
  }
 },
 "nbformat": 4,
 "nbformat_minor": 5
}
