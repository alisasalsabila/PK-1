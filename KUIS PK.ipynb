{
 "cells": [
  {
   "cell_type": "markdown",
   "id": "64044ba6-4494-42cc-a237-64e32db4c4ad",
   "metadata": {},
   "source": [
    "# KUIS program database honor penelitian"
   ]
  },
  {
   "cell_type": "code",
   "execution_count": 4,
   "id": "4272fbc2-03ca-452d-bfa9-98bee6c09811",
   "metadata": {},
   "outputs": [
    {
     "name": "stdin",
     "output_type": "stream",
     "text": [
      "Nama                    : Alisa Salsa\n",
      "Golongan(I/II/III/IV/-) : I\n",
      "Honor                   : 500000\n"
     ]
    },
    {
     "name": "stdout",
     "output_type": "stream",
     "text": [
      "Total                   :500000\n",
      "Rata_rata               : 500000.0\n",
      "+-------------+----------+------+--------+---------+\n",
      "|     Nama    | Golongan | NPWP | Honor  |  Pajak  |\n",
      "+-------------+----------+------+--------+---------+\n",
      "| Alisa Salsa |    I     | Ada  | 500000 | 25000.0 |\n",
      "+-------------+----------+------+--------+---------+\n"
     ]
    },
    {
     "name": "stdin",
     "output_type": "stream",
     "text": [
      "Apakah ingin menambah data Anda?(Ya/Tidak):  Ya\n",
      "Nama                    : Yulia \n",
      "Golongan(I/II/III/IV/-) : II\n",
      "Honor                   : 700000\n"
     ]
    },
    {
     "name": "stdout",
     "output_type": "stream",
     "text": [
      "Total                   :1200000\n",
      "Rata_rata               : 600000.0\n",
      "+--------+----------+------+--------+---------+\n",
      "|  Nama  | Golongan | NPWP | Honor  |  Pajak  |\n",
      "+--------+----------+------+--------+---------+\n",
      "| Yulia  |    II    | Ada  | 700000 | 35000.0 |\n",
      "+--------+----------+------+--------+---------+\n"
     ]
    },
    {
     "name": "stdin",
     "output_type": "stream",
     "text": [
      "Apakah ingin menambah data Anda?(Ya/Tidak):  Ya\n",
      "Nama                    : Anggraeni\n",
      "Golongan(I/II/III/IV/-) : III\n",
      "Honor                   : 900000\n"
     ]
    },
    {
     "name": "stdout",
     "output_type": "stream",
     "text": [
      "Total                   :2100000\n",
      "Rata_rata               : 700000.0\n",
      "+-----------+----------+------+--------+---------+\n",
      "|    Nama   | Golongan | NPWP | Honor  |  Pajak  |\n",
      "+-----------+----------+------+--------+---------+\n",
      "| Anggraeni |   III    | Ada  | 900000 | 45000.0 |\n",
      "+-----------+----------+------+--------+---------+\n"
     ]
    },
    {
     "name": "stdin",
     "output_type": "stream",
     "text": [
      "Apakah ingin menambah data Anda?(Ya/Tidak):  Tidak\n"
     ]
    },
    {
     "name": "stdout",
     "output_type": "stream",
     "text": [
      "\n",
      "--------------------------------------------------------------\n",
      "|   Nama   |   Golongan   |   NPWP   |   Honor   |   Pajak   |\n",
      "--------------------------------------------------------------\n",
      "| Alisa Salsa|     I        | Ada      | 500000    | 25000.0   |\n",
      "| Yulia    |     II       | Ada      | 700000    | 35000.0   |\n",
      "| Anggraeni|     III      | Ada      | 900000    | 45000.0   |\n",
      "--------------------------------------------------------------\n"
     ]
    }
   ],
   "source": [
    "i=0\n",
    "Nama = []\n",
    "Golongan = []\n",
    "NPWP = []\n",
    "Honor = []\n",
    "Pajak = []\n",
    "\n",
    "while True:\n",
    "    Nama.append(input(\"Nama                    :\"))\n",
    "    Golongan.append(input(\"Golongan(I/II/III/IV/-) :\"))\n",
    "    a=len(Golongan)-1\n",
    "    if Golongan[a] == \"I\" or Golongan[a] == \"II\" or Golongan[a] == \"III\" or Golongan[a] == \"IV\":\n",
    "        NPWP.append(\"Ada\")\n",
    "    elif Golongan[a] == \"-\":\n",
    "        NPWP.append(input(\"NPWP (Ada/Tidak Ada): \"))\n",
    "    Honor.append(int(input(\"Honor                   :\")))\n",
    "    if Golongan[a] == \"IV\":\n",
    "        Pajak.append(0.15*Honor[a])\n",
    "    elif Golongan[a] == \"I\" or Golongan[a] == \"II\" or Golongan[a] == \"III\":\n",
    "        Pajak.append(0.05*Honor[a])\n",
    "    elif Golongan[a] == \"-\" and NPWP[a] == \"Ada\":\n",
    "        Pajak.append(0.05*Honor[a])\n",
    "    elif Golongan[a] == \"-\" and NPWP[a] == \"Tidak Ada\":\n",
    "        Pajak.append(0.06*Honor[a])\n",
    "    Total=sum(Honor)\n",
    "    print('Total                   :{}'.format(Total))\n",
    "    Rata=Total/len(Honor)\n",
    "    print('Rata_rata               : {}'.format(Rata))\n",
    "    from prettytable import PrettyTable\n",
    "    t = PrettyTable(['Nama', 'Golongan', 'NPWP', 'Honor', 'Pajak'])\n",
    "    t.add_row([Nama[a], Golongan[a], NPWP[a], Honor[a], Pajak[a]])\n",
    "    print(t)\n",
    "    tambah = ''\n",
    "    while tambah!=\"Ya\" and tambah!=\"Tidak\":\n",
    "        tambah = input(\"Apakah ingin menambah data Anda?(Ya/Tidak): \")\n",
    "    i+=1\n",
    "    if tambah == \"Tidak\":\n",
    "        break\n",
    "print('''\n",
    "--------------------------------------------------------------\n",
    "|   Nama   |   Golongan   |   NPWP   |   Honor   |   Pajak   |\n",
    "--------------------------------------------------------------''')\n",
    "for x in range(len(Nama)):\n",
    "  isi = str(Nama[x])\n",
    "  print('| '+isi,end='')\n",
    "  for y in range(10-1-len(isi)):\n",
    "    print(' ',end='')\n",
    "  isi1 = str(Golongan[x])\n",
    "  print('|     '+isi1,end='')\n",
    "  for y in range(14-5-len(isi1)):\n",
    "    print(' ',end='')\n",
    "  isi2 = str(NPWP[x])\n",
    "  print('| '+isi2,end='')\n",
    "  for y in range(10-1-len(isi2)):\n",
    "    print(' ',end='')\n",
    "  isi3 = str(Honor[x])\n",
    "  print('| '+isi3,end='')\n",
    "  for y in range(11-1-len(isi3)):\n",
    "    print(' ',end='')\n",
    "  isi4 = str(Pajak[x])\n",
    "  print('| '+isi4,end='')\n",
    "  for y in range(11-1-len(isi4)):\n",
    "    print(' ',end='')\n",
    "  print('|')\n",
    "print('--------------------------------------------------------------')"
   ]
  },
  {
   "cell_type": "code",
   "execution_count": null,
   "id": "2b4c0674-0958-4f20-ac39-b5023aed36a7",
   "metadata": {},
   "outputs": [],
   "source": []
  }
 ],
 "metadata": {
  "kernelspec": {
   "display_name": "Python 3 (ipykernel)",
   "language": "python",
   "name": "python3"
  },
  "language_info": {
   "codemirror_mode": {
    "name": "ipython",
    "version": 3
   },
   "file_extension": ".py",
   "mimetype": "text/x-python",
   "name": "python",
   "nbconvert_exporter": "python",
   "pygments_lexer": "ipython3",
   "version": "3.10.2"
  },
  "toc-autonumbering": true,
  "toc-showcode": false,
  "toc-showmarkdowntxt": false
 },
 "nbformat": 4,
 "nbformat_minor": 5
}
