{
 "cells": [
  {
   "cell_type": "code",
   "execution_count": 7,
   "id": "1dedb3db-3c2e-4732-98c3-12e9b426fcf1",
   "metadata": {},
   "outputs": [
    {
     "name": "stdout",
     "output_type": "stream",
     "text": [
      "{'Nama': 'Alisa', 'Alamat': 'Jl Soekarno Hatta', 'No': '1'}\n",
      "('Alisa', 'Salsabila')\n",
      "{'Nama': 'Alisa', 'Alamat': 'Jl Soekarno Hatta', 'No': '1'}\n"
     ]
    }
   ],
   "source": [
    "G=[\"Alisa\",\"Salsabila\"] #list\n",
    "C=(\"Alisa\", \"Salsabila\") #Tupple\n",
    "A={'Nama': 'Alisa', 'Alamat': 'Jl Soekarno Hatta', 'No': '1'}\n",
    "print(A)\n",
    "print(C)\n",
    "print(A)"
   ]
  },
  {
   "cell_type": "code",
   "execution_count": 8,
   "id": "5e03b089-3632-4df7-9273-09545beaaab2",
   "metadata": {},
   "outputs": [
    {
     "name": "stdout",
     "output_type": "stream",
     "text": [
      "Alisa\n",
      "Alisa\n",
      "Alisa\n"
     ]
    }
   ],
   "source": [
    "print(G[0])\n",
    "print(C[0])\n",
    "print(A[\"Nama\"])"
   ]
  },
  {
   "cell_type": "code",
   "execution_count": 9,
   "id": "8e165618-2c5e-4f83-ad8e-a54b67aa9e37",
   "metadata": {},
   "outputs": [
    {
     "name": "stdout",
     "output_type": "stream",
     "text": [
      "['Dia', 'Salsabila']\n",
      "{'Nama': 'Alisa', 'Alamat': 'Jl Soekarno Hatta', 'No': '4'}\n"
     ]
    }
   ],
   "source": [
    "G[0]=\"Dia\"\n",
    "#C[0]=\"Dia\" #Tupple tidak bisa diganti\n",
    "A['No']= '4'\n",
    "print(G)\n",
    "print(A)\n"
   ]
  },
  {
   "cell_type": "code",
   "execution_count": 10,
   "id": "16dec008-bb98-4176-a2e4-7930155eb210",
   "metadata": {},
   "outputs": [
    {
     "name": "stdout",
     "output_type": "stream",
     "text": [
      "{'Nama': 'Alisa', 'Alamat': 'Jl Soekarno Hatta'}\n"
     ]
    }
   ],
   "source": [
    "del A ['No']\n",
    "print(A)"
   ]
  },
  {
   "cell_type": "code",
   "execution_count": 11,
   "id": "cedf5a29-3bec-4f1a-ab54-e3c23bea61b6",
   "metadata": {},
   "outputs": [
    {
     "name": "stdout",
     "output_type": "stream",
     "text": [
      "{'Alamat': 'Jl Soekarno Hatta'}\n"
     ]
    }
   ],
   "source": [
    "del A ['Nama']\n",
    "print(A)"
   ]
  },
  {
   "cell_type": "code",
   "execution_count": 12,
   "id": "d5b48f90-7b68-4c37-a8d0-1d6ec55742be",
   "metadata": {},
   "outputs": [
    {
     "name": "stdout",
     "output_type": "stream",
     "text": [
      "{'X': 3, 'Y': 2}\n"
     ]
    }
   ],
   "source": [
    "B={'X': 1, 'Y': 2, 'X': 3}\n",
    "print(B)"
   ]
  },
  {
   "cell_type": "code",
   "execution_count": 13,
   "id": "a1fb1507-9d6c-496a-9aaa-449b3c41ccbf",
   "metadata": {},
   "outputs": [
    {
     "data": {
      "text/plain": [
       "1"
      ]
     },
     "execution_count": 13,
     "metadata": {},
     "output_type": "execute_result"
    }
   ],
   "source": [
    "len(A)"
   ]
  },
  {
   "cell_type": "code",
   "execution_count": 14,
   "id": "f2b6f1de-a611-4b68-8883-0ca4bcda19d8",
   "metadata": {},
   "outputs": [
    {
     "data": {
      "text/plain": [
       "2"
      ]
     },
     "execution_count": 14,
     "metadata": {},
     "output_type": "execute_result"
    }
   ],
   "source": [
    "len(B)"
   ]
  },
  {
   "cell_type": "code",
   "execution_count": null,
   "id": "692a9f83-23dc-4769-8fca-f723e2254a8d",
   "metadata": {
    "tags": []
   },
   "outputs": [],
   "source": []
  },
  {
   "cell_type": "code",
   "execution_count": null,
   "id": "b4b2ae07-eb55-4b7b-934e-9b86952637fe",
   "metadata": {},
   "outputs": [],
   "source": []
  },
  {
   "cell_type": "code",
   "execution_count": null,
   "id": "8565226d-799e-4d33-b2b2-8a301ca0e2b4",
   "metadata": {},
   "outputs": [],
   "source": []
  }
 ],
 "metadata": {
  "kernelspec": {
   "display_name": "Python 3 (ipykernel)",
   "language": "python",
   "name": "python3"
  },
  "language_info": {
   "codemirror_mode": {
    "name": "ipython",
    "version": 3
   },
   "file_extension": ".py",
   "mimetype": "text/x-python",
   "name": "python",
   "nbconvert_exporter": "python",
   "pygments_lexer": "ipython3",
   "version": "3.10.2"
  },
  "toc-autonumbering": true
 },
 "nbformat": 4,
 "nbformat_minor": 5
}
