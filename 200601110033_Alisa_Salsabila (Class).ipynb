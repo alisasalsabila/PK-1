{
  "nbformat": 4,
  "nbformat_minor": 0,
  "metadata": {
    "colab": {
      "name": "200601110033_Alisa Salsabila.ipynb",
      "provenance": []
    },
    "kernelspec": {
      "name": "python3",
      "display_name": "Python 3"
    },
    "language_info": {
      "name": "python"
    }
  },
  "cells": [
    {
      "cell_type": "code",
      "execution_count": 3,
      "metadata": {
        "colab": {
          "base_uri": "https://localhost:8080/"
        },
        "id": "cXo4sqGO8f4P",
        "outputId": "1e2e1ca7-33ee-40f7-8c94-557a2269f4e5"
      },
      "outputs": [
        {
          "output_type": "execute_result",
          "data": {
            "text/plain": [
              "2"
            ]
          },
          "metadata": {},
          "execution_count": 3
        }
      ],
      "source": [
        "1+1"
      ]
    },
    {
      "cell_type": "markdown",
      "source": [
        "# Class"
      ],
      "metadata": {
        "id": "imT_J3ar9FG7"
      }
    },
    {
      "cell_type": "markdown",
      "source": [
        "# 7.1 Simple Class"
      ],
      "metadata": {
        "id": "DRqevbNf-bIe"
      }
    },
    {
      "cell_type": "code",
      "source": [
        "class kelasbaru:\n",
        "  x = 5"
      ],
      "metadata": {
        "id": "vOsOzex79Igu"
      },
      "execution_count": 5,
      "outputs": []
    },
    {
      "cell_type": "code",
      "source": [
        "a=kelasbaru()\n",
        "print(a.x)"
      ],
      "metadata": {
        "colab": {
          "base_uri": "https://localhost:8080/"
        },
        "id": "ZqcB-ctv9l_v",
        "outputId": "a715d8d3-c16d-40b2-b641-9d16436248fb"
      },
      "execution_count": 6,
      "outputs": [
        {
          "output_type": "stream",
          "name": "stdout",
          "text": [
            "5\n"
          ]
        }
      ]
    },
    {
      "cell_type": "markdown",
      "source": [
        "# 7.2 Membuat Class"
      ],
      "metadata": {
        "id": "NdcyFtNE-jR_"
      }
    },
    {
      "cell_type": "code",
      "source": [
        "class orang:\n",
        "  def __init__(self,nama,umur,tinggi,berat):\n",
        "    self.nama = nama\n",
        "    self.umur = umur\n",
        "    self.tinggi = tinggi\n",
        "    self.berat = berat"
      ],
      "metadata": {
        "id": "U--oeKZi-pmU"
      },
      "execution_count": 10,
      "outputs": []
    },
    {
      "cell_type": "code",
      "source": [
        "alisa=orang(\"Alisa\",\"20 Tahun\",\"155 cm\",\"45 kg\")\n",
        "print(alisa.nama)\n",
        "print(alisa.umur)\n",
        "print(alisa.tinggi)\n",
        "print(alisa.berat)"
      ],
      "metadata": {
        "colab": {
          "base_uri": "https://localhost:8080/"
        },
        "id": "Yt8XpOvI_-8-",
        "outputId": "fca321e7-f7c4-455d-ff21-bfd99ee2711b"
      },
      "execution_count": 11,
      "outputs": [
        {
          "output_type": "stream",
          "name": "stdout",
          "text": [
            "Alisa\n",
            "20 Tahun\n",
            "155 cm\n",
            "45 kg\n"
          ]
        }
      ]
    },
    {
      "cell_type": "markdown",
      "source": [
        "# Latihan"
      ],
      "metadata": {
        "id": "VuFlyTcRAfDh"
      }
    },
    {
      "cell_type": "code",
      "source": [
        "class stnk:\n",
        "  def __init__(self,merk,tipe,jenis,model,tahun_pembuatan,isi_silinder,nomor_rangka,nomor_mesin,warna,bahan_bakar,warna_TNKB):\n",
        "    self.merk = merk\n",
        "    self.tipe = tipe\n",
        "    self.jenis = jenis\n",
        "    self.model = model\n",
        "    self.tahun_pembuatan = tahun_pembuatan\n",
        "    self.isi_silinder = isi_silinder\n",
        "    self.nomor_rangka = nomor_rangka\n",
        "    self.nomor_mesin = nomor_mesin\n",
        "    self.warna = warna\n",
        "    self.bahan_bakar = bahan_bakar\n",
        "    self.warna_TNKB = warna_TNKB"
      ],
      "metadata": {
        "id": "8LeJwq_1AhWd"
      },
      "execution_count": 14,
      "outputs": []
    },
    {
      "cell_type": "code",
      "source": [
        "sepeda_alisa=stnk(\"beat\",\"MY200\",\"matic\",\"sepeda motor\",\"2020\",\"bensin\",\"12020\",\"1234\",\"hitam\",\"solar\",\"merah\")\n",
        "print(sepeda_alisa.tahun_pembuatan)"
      ],
      "metadata": {
        "colab": {
          "base_uri": "https://localhost:8080/"
        },
        "id": "iTDMFvB-DYGQ",
        "outputId": "15d0ddea-021f-45ad-ebbe-ec498b82b80b"
      },
      "execution_count": 15,
      "outputs": [
        {
          "output_type": "stream",
          "name": "stdout",
          "text": [
            "2020\n"
          ]
        }
      ]
    },
    {
      "cell_type": "markdown",
      "source": [
        "# Fungsi Di Dalam Class"
      ],
      "metadata": {
        "id": "qRKlH2FVEckK"
      }
    },
    {
      "cell_type": "code",
      "source": [
        "class persegipanjang:\n",
        "  def __init__(self,panjang,lebar):\n",
        "    self.panjang = panjang\n",
        "    self.lebar = lebar\n",
        "  def luas(self):\n",
        "    luastotal= self.panjang*self.lebar\n",
        "    print(\"luasnya adalah: \"+str(luastotal))"
      ],
      "metadata": {
        "id": "fe0lbfXXEf18"
      },
      "execution_count": 21,
      "outputs": []
    },
    {
      "cell_type": "code",
      "source": [
        "p1=persegipanjang(10,8)\n",
        "p1.luas()"
      ],
      "metadata": {
        "colab": {
          "base_uri": "https://localhost:8080/"
        },
        "id": "5zZBIdPGFQuj",
        "outputId": "0cff941e-279a-46b9-80ea-32555756766b"
      },
      "execution_count": 22,
      "outputs": [
        {
          "output_type": "stream",
          "name": "stdout",
          "text": [
            "luasnya adalah: 80\n"
          ]
        }
      ]
    },
    {
      "cell_type": "code",
      "source": [
        "class ptgr:\n",
        "  def __init__(self,a,b):\n",
        "    self.a = a\n",
        "    self.b = b\n",
        "  def pitagoras(self):\n",
        "    c=(self.a**2+self.b**2)**(8.5)\n",
        "    return(c)"
      ],
      "metadata": {
        "id": "aD9ee9dvHn7b"
      },
      "execution_count": 24,
      "outputs": []
    },
    {
      "cell_type": "code",
      "source": [
        "ptgr1=ptgr(4,5)\n",
        "ptgr1.pitagoras()"
      ],
      "metadata": {
        "colab": {
          "base_uri": "https://localhost:8080/"
        },
        "id": "JnZ8iHm4I2Zu",
        "outputId": "9c4db40c-cca5-4c23-a6d4-5afc17231c26"
      },
      "execution_count": 25,
      "outputs": [
        {
          "output_type": "execute_result",
          "data": {
            "text/plain": [
              "51128468268673.72"
            ]
          },
          "metadata": {},
          "execution_count": 25
        }
      ]
    },
    {
      "cell_type": "markdown",
      "source": [
        "# Modifikasi"
      ],
      "metadata": {
        "id": "knhw6GsJI9bg"
      }
    },
    {
      "cell_type": "code",
      "source": [
        "class a:\n",
        "  def __init__(self,b,c):\n",
        "    self.b=b\n",
        "    self.c=c"
      ],
      "metadata": {
        "id": "BFgkYY5_I_dt"
      },
      "execution_count": 26,
      "outputs": []
    },
    {
      "cell_type": "code",
      "source": [
        "a1=a(2,3)\n",
        "print(a1.b)\n",
        "print(a1.c)"
      ],
      "metadata": {
        "colab": {
          "base_uri": "https://localhost:8080/"
        },
        "id": "6sfFDAzSJQYr",
        "outputId": "6ac93649-452d-4303-f9bf-9bc8bd21e2cd"
      },
      "execution_count": 27,
      "outputs": [
        {
          "output_type": "stream",
          "name": "stdout",
          "text": [
            "2\n",
            "3\n"
          ]
        }
      ]
    },
    {
      "cell_type": "markdown",
      "source": [
        "# Latihan"
      ],
      "metadata": {
        "id": "ZqBRodxeJZgU"
      }
    },
    {
      "cell_type": "code",
      "source": [
        "class makeup:\n",
        "  def __init__(self,loose_powder,bb_cream,bedak,blush_on,concealer,maskara,lipstik,eyeliner):\n",
        "    self.loose_powder = loose_powder\n",
        "    self.bb_cream = bb_cream\n",
        "    self.bedak = bedak\n",
        "    self.blush_on = blush_on\n",
        "    self.concealer = concealer\n",
        "    self.maskara = maskara\n",
        "    self.lipstik = lipstik\n",
        "    self.eyeliner = eyeliner"
      ],
      "metadata": {
        "id": "54W7EtY1MB1H"
      },
      "execution_count": 31,
      "outputs": []
    },
    {
      "cell_type": "code",
      "source": [
        "alisa=makeup(\"wardah\",\"emina\",\"maybeline\",\"ponds\",\"makeover\",\"sariayu\",\"mustikaratu\",\"eska\")\n",
        "print(alisa.loose_powder)"
      ],
      "metadata": {
        "colab": {
          "base_uri": "https://localhost:8080/"
        },
        "id": "vAd3rKekNYor",
        "outputId": "d5609bfa-486a-4949-b081-6421e918398b"
      },
      "execution_count": 38,
      "outputs": [
        {
          "output_type": "stream",
          "name": "stdout",
          "text": [
            "wardah\n"
          ]
        }
      ]
    },
    {
      "cell_type": "markdown",
      "source": [
        "# Delete Property"
      ],
      "metadata": {
        "id": "ys4uznNNVYXx"
      }
    },
    {
      "cell_type": "code",
      "source": [
        "print(a1.c)\n",
        "del a1.c\n",
        "print(a1.c)"
      ],
      "metadata": {
        "colab": {
          "base_uri": "https://localhost:8080/",
          "height": 200
        },
        "id": "NHCy8JDxVc7f",
        "outputId": "e299d01d-6114-43e5-f65a-66d0ffb72fe3"
      },
      "execution_count": 39,
      "outputs": [
        {
          "output_type": "error",
          "ename": "AttributeError",
          "evalue": "ignored",
          "traceback": [
            "\u001b[0;31m---------------------------------------------------------------------------\u001b[0m",
            "\u001b[0;31mAttributeError\u001b[0m                            Traceback (most recent call last)",
            "\u001b[0;32m<ipython-input-39-ecfcf0b203e7>\u001b[0m in \u001b[0;36m<module>\u001b[0;34m()\u001b[0m\n\u001b[0;32m----> 1\u001b[0;31m \u001b[0mprint\u001b[0m\u001b[0;34m(\u001b[0m\u001b[0ma1\u001b[0m\u001b[0;34m.\u001b[0m\u001b[0mc\u001b[0m\u001b[0;34m)\u001b[0m\u001b[0;34m\u001b[0m\u001b[0;34m\u001b[0m\u001b[0m\n\u001b[0m\u001b[1;32m      2\u001b[0m \u001b[0;32mdel\u001b[0m \u001b[0ma1\u001b[0m\u001b[0;34m.\u001b[0m\u001b[0mc\u001b[0m\u001b[0;34m\u001b[0m\u001b[0;34m\u001b[0m\u001b[0m\n\u001b[1;32m      3\u001b[0m \u001b[0mprint\u001b[0m\u001b[0;34m(\u001b[0m\u001b[0ma1\u001b[0m\u001b[0;34m.\u001b[0m\u001b[0mc\u001b[0m\u001b[0;34m)\u001b[0m\u001b[0;34m\u001b[0m\u001b[0;34m\u001b[0m\u001b[0m\n",
            "\u001b[0;31mAttributeError\u001b[0m: 'a' object has no attribute 'c'"
          ]
        }
      ]
    },
    {
      "cell_type": "markdown",
      "source": [
        "# Delete Object"
      ],
      "metadata": {
        "id": "iXEDeHLKVqXA"
      }
    },
    {
      "cell_type": "code",
      "source": [
        "print(a1)\n",
        "del a1\n",
        "print(a1)"
      ],
      "metadata": {
        "colab": {
          "base_uri": "https://localhost:8080/",
          "height": 217
        },
        "id": "kczPIMb3Vt1n",
        "outputId": "01d84a2d-4526-497a-f3ca-19dcafe29e23"
      },
      "execution_count": 40,
      "outputs": [
        {
          "output_type": "stream",
          "name": "stdout",
          "text": [
            "<__main__.a object at 0x7f471f5bc2d0>\n"
          ]
        },
        {
          "output_type": "error",
          "ename": "NameError",
          "evalue": "ignored",
          "traceback": [
            "\u001b[0;31m---------------------------------------------------------------------------\u001b[0m",
            "\u001b[0;31mNameError\u001b[0m                                 Traceback (most recent call last)",
            "\u001b[0;32m<ipython-input-40-5c4bda072dcf>\u001b[0m in \u001b[0;36m<module>\u001b[0;34m()\u001b[0m\n\u001b[1;32m      1\u001b[0m \u001b[0mprint\u001b[0m\u001b[0;34m(\u001b[0m\u001b[0ma1\u001b[0m\u001b[0;34m)\u001b[0m\u001b[0;34m\u001b[0m\u001b[0;34m\u001b[0m\u001b[0m\n\u001b[1;32m      2\u001b[0m \u001b[0;32mdel\u001b[0m \u001b[0ma1\u001b[0m\u001b[0;34m\u001b[0m\u001b[0;34m\u001b[0m\u001b[0m\n\u001b[0;32m----> 3\u001b[0;31m \u001b[0mprint\u001b[0m\u001b[0;34m(\u001b[0m\u001b[0ma1\u001b[0m\u001b[0;34m)\u001b[0m\u001b[0;34m\u001b[0m\u001b[0;34m\u001b[0m\u001b[0m\n\u001b[0m",
            "\u001b[0;31mNameError\u001b[0m: name 'a1' is not defined"
          ]
        }
      ]
    }
  ]
}