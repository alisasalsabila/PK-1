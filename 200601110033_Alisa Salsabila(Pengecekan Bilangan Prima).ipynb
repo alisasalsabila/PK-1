{
 "cells": [
  {
   "cell_type": "markdown",
   "id": "adab8440-959d-45f1-9b47-c798fc18da81",
   "metadata": {},
   "source": [
    "# Pengecekan Bilangan Prima"
   ]
  },
  {
   "cell_type": "code",
   "execution_count": 8,
   "id": "2cc58b27-96e4-43d9-b45d-3328e2c6c785",
   "metadata": {},
   "outputs": [
    {
     "name": "stdout",
     "output_type": "stream",
     "text": [
      "Ini bilangan Prima\n"
     ]
    }
   ],
   "source": [
    "def cekPrima(n):\n",
    "    if (n <= 1):\n",
    "        return False\n",
    "    for i in range(2, n):\n",
    "        if (n % i == 0):\n",
    "            return False\n",
    "    return True\n",
    "if cekPrima(11):\n",
    "    print(\"Ini bilangan Prima\")\n",
    "else:\n",
    "    print(\"Bukan bilangan Prima\")"
   ]
  },
  {
   "cell_type": "code",
   "execution_count": 15,
   "id": "367cca46-de01-4be2-977c-df96fab2a5b8",
   "metadata": {},
   "outputs": [],
   "source": []
  },
  {
   "cell_type": "code",
   "execution_count": null,
   "id": "93a5c4e7-b358-452d-8f4c-fa5873fd1303",
   "metadata": {},
   "outputs": [],
   "source": [
    "\n"
   ]
  },
  {
   "cell_type": "code",
   "execution_count": null,
   "id": "01c9839d-aaa0-4e85-9da7-58a3d63b972c",
   "metadata": {},
   "outputs": [],
   "source": []
  }
 ],
 "metadata": {
  "kernelspec": {
   "display_name": "Python 3 (ipykernel)",
   "language": "python",
   "name": "python3"
  },
  "language_info": {
   "codemirror_mode": {
    "name": "ipython",
    "version": 3
   },
   "file_extension": ".py",
   "mimetype": "text/x-python",
   "name": "python",
   "nbconvert_exporter": "python",
   "pygments_lexer": "ipython3",
   "version": "3.10.2"
  }
 },
 "nbformat": 4,
 "nbformat_minor": 5
}
