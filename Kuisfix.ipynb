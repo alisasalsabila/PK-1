{
 "cells": [
  {
   "cell_type": "code",
   "execution_count": null,
   "id": "a3790fe9-2977-4e17-8e18-e56235c158db",
   "metadata": {},
   "outputs": [
    {
     "name": "stdin",
     "output_type": "stream",
     "text": [
      "Nama                    : Anggraeni\n",
      "Golongan(I/II/III/IV/-) : II\n",
      "Honor                   : 90000\n"
     ]
    },
    {
     "name": "stdout",
     "output_type": "stream",
     "text": [
      "Total                   :90000\n",
      "Rata_rata               :90000.0\n",
      "+-----------+----------+------+-------+--------+\n",
      "|    Nama   | Golongan | NPWP | Honor | Pajak  |\n",
      "+-----------+----------+------+-------+--------+\n",
      "| Anggraeni |    II    | Ada  | 90000 | 4500.0 |\n",
      "+-----------+----------+------+-------+--------+\n"
     ]
    }
   ],
   "source": [
    "i=0\n",
    "Nama = []\n",
    "Golongan = []\n",
    "NPWP = []\n",
    "Honor = []\n",
    "Pajak = []\n",
    "\n",
    "while True:\n",
    "    Nama.append(input(\"Nama                    :\"))\n",
    "    Golongan.append(input(\"Golongan(I/II/III/IV/-) :\"))\n",
    "    a=len(Golongan)-1\n",
    "    if Golongan[a] == \"I\" or Golongan[a] == \"II\" or Golongan[a] == \"III\" or Golongan[a] == \"IV\":\n",
    "        NPWP.append(\"Ada\")\n",
    "    elif Golongan[a] == \"-\":\n",
    "        NPWP.append(input(\"NPWP (Ada/Tidak Ada): \"))\n",
    "    Honor.append(int(input(\"Honor                   :\")))\n",
    "    if Golongan[a] == \"IV\":\n",
    "        Pajak.append(0.15*Honor[a])\n",
    "    elif Golongan[a] == \"I\" or Golongan[a] == \"II\" or Golongan[a] == \"III\":\n",
    "        Pajak.append(0.05*Honor[a])\n",
    "    elif Golongan[a] == \"-\" and NPWP[a] == \"Ada\":\n",
    "        Pajak.append(0.05*Honor[a])\n",
    "    elif Golongan[a] == \"-\" and NPWP[a] == \"Tidak Ada\":\n",
    "        Pajak.append(0.06*Honor[a])\n",
    "    Total=sum(Honor)\n",
    "    print('Total                   :{}'.format(Total))\n",
    "    Rata=Total/len(Honor)\n",
    "    print('Rata_rata               : {}'.format(Rata))\n",
    "    from prettytable import PrettyTable\n",
    "    t = PrettyTable(['Nama', 'Golongan', 'NPWP', 'Honor', 'Pajak'])\n",
    "    t.add_row([Nama[a], Golongan[a], NPWP[a], Honor[a], Pajak[a]])\n",
    "    print(t)\n",
    "    tambah = ''\n",
    "    while tambah!=\"Ya\" and tambah!=\"Tidak\":\n",
    "        tambah = input(\"Apakah ingin menambah data Anda?(Ya/Tidak): \")\n",
    "    i+=1\n",
    "    if tambah == \"Tidak\":\n",
    "        break"
   ]
  },
  {
   "cell_type": "code",
   "execution_count": null,
   "id": "73d8f245-3b3b-4638-a4e1-503f7405f28d",
   "metadata": {},
   "outputs": [],
   "source": []
  }
 ],
 "metadata": {
  "kernelspec": {
   "display_name": "Python 3 (ipykernel)",
   "language": "python",
   "name": "python3"
  },
  "language_info": {
   "codemirror_mode": {
    "name": "ipython",
    "version": 3
   },
   "file_extension": ".py",
   "mimetype": "text/x-python",
   "name": "python",
   "nbconvert_exporter": "python",
   "pygments_lexer": "ipython3",
   "version": "3.10.2"
  }
 },
 "nbformat": 4,
 "nbformat_minor": 5
}
